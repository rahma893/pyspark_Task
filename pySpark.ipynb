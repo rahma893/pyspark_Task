{
 "cells": [
  {
   "cell_type": "code",
   "execution_count": 98,
   "id": "5adc4995",
   "metadata": {},
   "outputs": [],
   "source": [
    "from pyspark.sql import SparkSession\n",
    "from pyspark.sql import Row\n",
    "import pyspark.sql.functions as fun \n",
    "import numpy as np\n",
    "from pyspark.sql.types import *"
   ]
  },
  {
   "cell_type": "code",
   "execution_count": 99,
   "id": "152f5e42",
   "metadata": {},
   "outputs": [],
   "source": [
    "spark = SparkSession.builder.getOrCreate()"
   ]
  },
  {
   "cell_type": "code",
   "execution_count": 100,
   "id": "33ddc3d2",
   "metadata": {},
   "outputs": [],
   "source": [
    "sc = spark.sparkContext"
   ]
  },
  {
   "cell_type": "code",
   "execution_count": 101,
   "id": "a98b5c1f",
   "metadata": {},
   "outputs": [
    {
     "name": "stdout",
     "output_type": "stream",
     "text": [
      "[1, 2, 3, 4, 5, 6, 7, 8, 9, 10, 11, 12, 13, 14, 15, 16, 17, 18, 19, 20, 21, 22, 23, 24, 25, 26, 27, 28, 29, 30, 31, 32, 33, 34, 35, 36, 37, 38, 39, 40, 41, 42, 43, 44, 45, 46, 47, 48, 49]\n"
     ]
    }
   ],
   "source": [
    "data = np.arange(1,50)\n",
    "rdd = sc.parallelize(data)\n",
    "print(rdd.collect())"
   ]
  },
  {
   "cell_type": "code",
   "execution_count": 102,
   "id": "c33f4819",
   "metadata": {},
   "outputs": [
    {
     "name": "stdout",
     "output_type": "stream",
     "text": [
      "1225\n"
     ]
    }
   ],
   "source": [
    "print(rdd.sum())"
   ]
  },
  {
   "cell_type": "code",
   "execution_count": 103,
   "id": "8971d081",
   "metadata": {},
   "outputs": [
    {
     "name": "stdout",
     "output_type": "stream",
     "text": [
      "25.0\n"
     ]
    }
   ],
   "source": [
    "print(rdd.mean())"
   ]
  },
  {
   "cell_type": "code",
   "execution_count": 104,
   "id": "44100eb3",
   "metadata": {},
   "outputs": [
    {
     "name": "stdout",
     "output_type": "stream",
     "text": [
      "49\n"
     ]
    }
   ],
   "source": [
    "print(rdd.count())"
   ]
  },
  {
   "cell_type": "code",
   "execution_count": 105,
   "id": "93c7604c",
   "metadata": {},
   "outputs": [
    {
     "name": "stdout",
     "output_type": "stream",
     "text": [
      "1\n"
     ]
    }
   ],
   "source": [
    "print(rdd.min())"
   ]
  },
  {
   "cell_type": "code",
   "execution_count": 106,
   "id": "ce2c9044",
   "metadata": {},
   "outputs": [
    {
     "name": "stdout",
     "output_type": "stream",
     "text": [
      "49\n"
     ]
    }
   ],
   "source": [
    "print(rdd.max())"
   ]
  },
  {
   "cell_type": "code",
   "execution_count": 107,
   "id": "5733e16a",
   "metadata": {},
   "outputs": [
    {
     "name": "stdout",
     "output_type": "stream",
     "text": [
      "ODD Numbers: 25 EVEN Numbers: 24\n"
     ]
    }
   ],
   "source": [
    "rdd_even = rdd.filter(lambda x: x % 2 == 0)\n",
    "rdd_odd = rdd.filter(lambda x: x % 2 != 0)\n",
    "print(f\"ODD Numbers: {rdd_odd.count()} EVEN Numbers: {rdd_even.count()}\" )"
   ]
  },
  {
   "cell_type": "code",
   "execution_count": 108,
   "id": "f2c0ae53",
   "metadata": {},
   "outputs": [
    {
     "data": {
      "text/plain": [
       "[('Nada', 25),\n",
       " ('Mona', 30),\n",
       " ('Ahmed', 35),\n",
       " ('Khaled', 40),\n",
       " ('Ahmed', 35),\n",
       " ('Nada', 25)]"
      ]
     },
     "execution_count": 108,
     "metadata": {},
     "output_type": "execute_result"
    }
   ],
   "source": [
    "people_data = [(\"Nada\", 25), (\"Mona\", 30), (\"Ahmed\", 35), (\"Khaled\", 40),(\"Ahmed\", 35), (\"Nada\", 25)]\n",
    "rdd_people = sc.parallelize(people_data)\n",
    "rdd_people.collect()"
   ]
  },
  {
   "cell_type": "code",
   "execution_count": 109,
   "id": "c5f60f4b",
   "metadata": {},
   "outputs": [
    {
     "name": "stdout",
     "output_type": "stream",
     "text": [
      "('Khaled', 40)\n"
     ]
    }
   ],
   "source": [
    "oldest = rdd_people.max(key=lambda x: x[1])\n",
    "print(oldest)"
   ]
  },
  {
   "cell_type": "code",
   "execution_count": 110,
   "id": "ca684b6f",
   "metadata": {},
   "outputs": [
    {
     "name": "stdout",
     "output_type": "stream",
     "text": [
      "31.666666666666668\n"
     ]
    }
   ],
   "source": [
    "ages = rdd_people.map(lambda x: x[1])\n",
    "print(ages.mean())"
   ]
  },
  {
   "cell_type": "code",
   "execution_count": 111,
   "id": "f5547bb6",
   "metadata": {},
   "outputs": [
    {
     "data": {
      "text/plain": [
       "[(25, ['Nada(25)', 'Nada(25)']),\n",
       " (40, ['Khaled(40)']),\n",
       " (30, ['Mona(30)']),\n",
       " (35, ['Ahmed(35)', 'Ahmed(35)'])]"
      ]
     },
     "execution_count": 111,
     "metadata": {},
     "output_type": "execute_result"
    }
   ],
   "source": [
    "rdd_grouped = rdd_people.map(lambda x: (x[1], f\"{x[0]}({x[1]})\")).groupByKey().mapValues(list)\n",
    "rdd_grouped.collect()"
   ]
  },
  {
   "cell_type": "code",
   "execution_count": 112,
   "id": "7493d570",
   "metadata": {},
   "outputs": [
    {
     "data": {
      "text/plain": [
       "['Russia is the largest country in the world by land area',\n",
       " 'Moscow is the capital city of Russia',\n",
       " 'The Russian language is one of the most widely spoken languages in the world',\n",
       " 'Russia is known for its rich history and culture',\n",
       " 'The Trans-Siberian Railway is the longest railway line in the world',\n",
       " 'Russia has a strong tradition in literature, music and ballet',\n",
       " 'The country is famous for its cold winters and vast landscapes',\n",
       " 'Russia is a major player in global energy production']"
      ]
     },
     "execution_count": 112,
     "metadata": {},
     "output_type": "execute_result"
    }
   ],
   "source": [
    "rdd_russia = sc.textFile(\"/data/russia.txt\")\n",
    "rdd_russia.collect()"
   ]
  },
  {
   "cell_type": "code",
   "execution_count": 113,
   "id": "c9d26448",
   "metadata": {},
   "outputs": [
    {
     "data": {
      "text/plain": [
       "8"
      ]
     },
     "execution_count": 113,
     "metadata": {},
     "output_type": "execute_result"
    }
   ],
   "source": [
    "rdd_russia.count()"
   ]
  },
  {
   "cell_type": "code",
   "execution_count": 114,
   "id": "4df58b83",
   "metadata": {},
   "outputs": [
    {
     "data": {
      "text/plain": [
       "6"
      ]
     },
     "execution_count": 114,
     "metadata": {},
     "output_type": "execute_result"
    }
   ],
   "source": [
    "rdd_russia_count = rdd_russia.filter(lambda x: 'Russia' in x).count()\n",
    "rdd_russia_count"
   ]
  },
  {
   "cell_type": "code",
   "execution_count": 115,
   "id": "05df7541",
   "metadata": {},
   "outputs": [
    {
     "name": "stdout",
     "output_type": "stream",
     "text": [
      "[('is', 7), ('the', 7), ('Russia', 5), ('in', 5), ('world', 3)]\n"
     ]
    }
   ],
   "source": [
    "rdd_russia_split = rdd_russia.flatMap(lambda line: line.split())\n",
    "rdd_pairs = rdd_russia_split.map(lambda word: (word, 1))\n",
    "word_count = rdd_pairs.reduceByKey(lambda a, b: a + b)\n",
    "\n",
    "rdd_most_frequent = word_count.sortBy(lambda x: x[1], ascending=False)\n",
    "print(rdd_most_frequent.take(5))"
   ]
  },
  {
   "cell_type": "code",
   "execution_count": 116,
   "id": "b709c879",
   "metadata": {},
   "outputs": [
    {
     "name": "stdout",
     "output_type": "stream",
     "text": [
      "['Russia', 'is', 'the', 'largest', 'country', 'in', 'the', 'world', 'by', 'land', 'area', 'Moscow', 'is', 'the', 'capital', 'city', 'of', 'Russia', 'The', 'Russian', 'language', 'is', 'one', 'of', 'the', 'most', 'widely', 'spoken', 'languages', 'in', 'the', 'world', 'Russia', 'is', 'known', 'for', 'its', 'rich', 'history', 'and', 'culture', 'The', 'Trans-Siberian', 'Railway', 'is', 'the', 'longest', 'railway', 'line', 'in', 'the', 'world', 'Russia', 'has', 'a', 'strong', 'tradition', 'in', 'literature,', 'music', 'and', 'ballet', 'The', 'country', 'is', 'famous', 'for', 'its', 'cold', 'winters', 'and', 'vast', 'landscapes', 'Russia', 'is', 'a', 'major', 'player', 'in', 'global', 'energy', 'production']\n"
     ]
    }
   ],
   "source": [
    "print(rdd_russia_split.collect())"
   ]
  },
  {
   "cell_type": "code",
   "execution_count": 117,
   "id": "133e0b70",
   "metadata": {},
   "outputs": [
    {
     "name": "stdout",
     "output_type": "stream",
     "text": [
      "['Russia', 'largest', 'country', 'world', 'by', 'land', 'area', 'Moscow', 'capital', 'city', 'Russia', 'The', 'Russian', 'language', 'one', 'most', 'widely', 'spoken', 'languages', 'world', 'Russia', 'known', 'for', 'its', 'rich', 'history', 'and', 'culture', 'The', 'Trans-Siberian', 'Railway', 'longest', 'railway', 'line', 'world', 'Russia', 'has', 'strong', 'tradition', 'literature,', 'music', 'and', 'ballet', 'The', 'country', 'famous', 'for', 'its', 'cold', 'winters', 'and', 'vast', 'landscapes', 'Russia', 'major', 'player', 'global', 'energy', 'production']\n"
     ]
    }
   ],
   "source": [
    "stop_word = ['a', 'the', 'is' , 'to', 'in', 'of']\n",
    "rdd_russia_stop_words = rdd_russia.flatMap(lambda line: line.split()).filter(lambda word: word not in stop_word)\n",
    "print(rdd_russia_stop_words.collect())"
   ]
  },
  {
   "cell_type": "code",
   "execution_count": 118,
   "id": "54f3c648",
   "metadata": {},
   "outputs": [
    {
     "name": "stdout",
     "output_type": "stream",
     "text": [
      "[('Russia', 5), ('largest', 1), ('country', 2), ('world', 3), ('by', 1), ('land', 1), ('area', 1), ('capital', 1), ('of', 2), ('language', 1), ('most', 1), ('widely', 1), ('known', 1), ('for', 2), ('history', 1), ('and', 3), ('Trans-Siberian', 1), ('Railway', 1), ('line', 1), ('literature,', 1), ('music', 1), ('famous', 1), ('cold', 1), ('winters', 1), ('landscapes', 1), ('player', 1), ('energy', 1), ('production', 1), ('is', 7), ('the', 7), ('in', 5), ('Moscow', 1), ('city', 1), ('The', 3), ('Russian', 1), ('one', 1), ('spoken', 1), ('languages', 1), ('its', 2), ('rich', 1), ('culture', 1), ('longest', 1), ('railway', 1), ('has', 1), ('a', 2), ('strong', 1), ('tradition', 1), ('ballet', 1), ('vast', 1), ('major', 1), ('global', 1)]\n"
     ]
    }
   ],
   "source": [
    "print(word_count.collect())"
   ]
  },
  {
   "cell_type": "code",
   "execution_count": 119,
   "id": "06aff7a1",
   "metadata": {},
   "outputs": [],
   "source": [
    "schema = 'id integer, name string, age integer, salary integer' \n",
    "data = [\n",
    "    (1, \"Ali\", 25, 4000),\n",
    "    (2, \"Mariam\", 30, 6000),\n",
    "    (3, \"Omar\", 35, 7000),\n",
    "    (4, \"Sara\", 28, 5000),\n",
    "    (5, \"Omar\", 25, 6500),\n",
    "    (6, \"Mariam\", 26, 7500)\n",
    "]\n",
    "\n",
    "df = spark.createDataFrame(data,schema)"
   ]
  },
  {
   "cell_type": "code",
   "execution_count": 120,
   "id": "c5954a7f",
   "metadata": {},
   "outputs": [
    {
     "name": "stdout",
     "output_type": "stream",
     "text": [
      "root\n",
      " |-- id: integer (nullable = true)\n",
      " |-- name: string (nullable = true)\n",
      " |-- age: integer (nullable = true)\n",
      " |-- salary: integer (nullable = true)\n",
      "\n",
      "+---+------+---+------+\n",
      "| id|  name|age|salary|\n",
      "+---+------+---+------+\n",
      "|  1|   Ali| 25|  4000|\n",
      "|  2|Mariam| 30|  6000|\n",
      "+---+------+---+------+\n",
      "only showing top 2 rows\n",
      "\n"
     ]
    }
   ],
   "source": [
    "df.printSchema()\n",
    "df.show(2)"
   ]
  },
  {
   "cell_type": "code",
   "execution_count": 121,
   "id": "94646c10",
   "metadata": {},
   "outputs": [
    {
     "name": "stdout",
     "output_type": "stream",
     "text": [
      "+------+------+\n",
      "|  name|salary|\n",
      "+------+------+\n",
      "|   Ali|  4000|\n",
      "|Mariam|  6000|\n",
      "|  Omar|  7000|\n",
      "|  Sara|  5000|\n",
      "|  Omar|  6500|\n",
      "|Mariam|  7500|\n",
      "+------+------+\n",
      "\n"
     ]
    }
   ],
   "source": [
    "df_ = df.select('name','salary')\n",
    "df_.show()"
   ]
  },
  {
   "cell_type": "code",
   "execution_count": 122,
   "id": "fe84035e",
   "metadata": {},
   "outputs": [
    {
     "name": "stdout",
     "output_type": "stream",
     "text": [
      "+-----------+\n",
      "|avg(salary)|\n",
      "+-----------+\n",
      "|     6000.0|\n",
      "+-----------+\n",
      "\n"
     ]
    }
   ],
   "source": [
    "df_avg = df.select(fun.avg('salary'))\n",
    "df_avg.show()"
   ]
  },
  {
   "cell_type": "code",
   "execution_count": 123,
   "id": "676c23c7",
   "metadata": {},
   "outputs": [
    {
     "name": "stdout",
     "output_type": "stream",
     "text": [
      "+---+------+---+------+\n",
      "| id|  name|age|salary|\n",
      "+---+------+---+------+\n",
      "|  2|Mariam| 30|  6000|\n",
      "|  3|  Omar| 35|  7000|\n",
      "+---+------+---+------+\n",
      "\n"
     ]
    }
   ],
   "source": [
    "df.filter(df.age > 28).show()"
   ]
  },
  {
   "cell_type": "code",
   "execution_count": 124,
   "id": "fea75d73",
   "metadata": {},
   "outputs": [
    {
     "name": "stdout",
     "output_type": "stream",
     "text": [
      "4\n"
     ]
    }
   ],
   "source": [
    "# df.select(fun.countDistinct(\"name\")).show()  --> table\n",
    "df_distinct = df.select('name').distinct()\n",
    "print(df_distinct.count())"
   ]
  },
  {
   "cell_type": "code",
   "execution_count": 125,
   "id": "2ef1d4f6",
   "metadata": {},
   "outputs": [
    {
     "name": "stdout",
     "output_type": "stream",
     "text": [
      "+------+-----------+\n",
      "|  name|avg(salary)|\n",
      "+------+-----------+\n",
      "|   Ali|     4000.0|\n",
      "|Mariam|     6750.0|\n",
      "|  Omar|     6750.0|\n",
      "|  Sara|     5000.0|\n",
      "+------+-----------+\n",
      "\n"
     ]
    }
   ],
   "source": [
    "df_salary_avg = df.groupBy('name').avg('salary')\n",
    "df_salary_avg.show()"
   ]
  },
  {
   "cell_type": "code",
   "execution_count": 126,
   "id": "ec212fde",
   "metadata": {},
   "outputs": [
    {
     "name": "stdout",
     "output_type": "stream",
     "text": [
      "+----+-----+-----+\n",
      "|  Id| Name|Sales|\n",
      "+----+-----+-----+\n",
      "|emp1| John| NULL|\n",
      "|emp2| NULL| NULL|\n",
      "|emp3| NULL|345.0|\n",
      "|emp4|Cindy|456.0|\n",
      "+----+-----+-----+\n",
      "\n"
     ]
    }
   ],
   "source": [
    "df1 = spark.read.csv(\"/data/NullData.csv\", header=True, inferSchema=True) \n",
    "df1.show()"
   ]
  },
  {
   "cell_type": "code",
   "execution_count": 127,
   "id": "0ba77aba",
   "metadata": {},
   "outputs": [
    {
     "name": "stdout",
     "output_type": "stream",
     "text": [
      "400.5\n"
     ]
    }
   ],
   "source": [
    "avg_salary = df1.select(fun.avg('sales')).collect()[0][0]\n",
    "print(avg_salary)"
   ]
  },
  {
   "cell_type": "code",
   "execution_count": 128,
   "id": "4a4626c0",
   "metadata": {},
   "outputs": [
    {
     "name": "stdout",
     "output_type": "stream",
     "text": [
      "+----+-------+-----+\n",
      "|  Id|   Name|Sales|\n",
      "+----+-------+-----+\n",
      "|emp1|   John|400.5|\n",
      "|emp2|Unknown|400.5|\n",
      "|emp3|Unknown|345.0|\n",
      "|emp4|  Cindy|456.0|\n",
      "+----+-------+-----+\n",
      "\n"
     ]
    }
   ],
   "source": [
    "df1.fillna(\n",
    "{\n",
    "    \"Name\" : 'Unknown',\n",
    "    \"Sales\" : avg_salary\n",
    "}\n",
    ").show()"
   ]
  }
 ],
 "metadata": {
  "kernelspec": {
   "display_name": "Python 3 (ipykernel)",
   "language": "python",
   "name": "python3"
  }
 },
 "nbformat": 4,
 "nbformat_minor": 5
}
